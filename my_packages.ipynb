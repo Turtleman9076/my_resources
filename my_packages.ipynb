{
 "cells": [
  {
   "cell_type": "markdown",
   "id": "7d1656c0",
   "metadata": {},
   "source": [
    "# My Packages With Descriptions"
   ]
  },
  {
   "cell_type": "markdown",
   "id": "3e5db944",
   "metadata": {},
   "source": [
    "## Read/Write"
   ]
  },
  {
   "cell_type": "code",
   "execution_count": 6,
   "id": "211be315",
   "metadata": {},
   "outputs": [],
   "source": [
    "from pyspark.sql import SparkSession  ## Apache Spark - Sql queries in python\n",
    "import pandas as pd ## Pandas - data wrangling\n",
    "import numpy as np ## Numpy - Numbers and Statistics"
   ]
  },
  {
   "cell_type": "markdown",
   "id": "d0261874",
   "metadata": {},
   "source": [
    "## Apache Spark"
   ]
  },
  {
   "cell_type": "markdown",
   "id": "dc0188ee",
   "metadata": {},
   "source": [
    "Installing Packages: https://sparkbyexamples.com/pyspark/python-no-module-named-pyspark-error/ <br>\n",
    "Resource 1: https://spark.apache.org/docs/latest/sql-getting-started.html <br>\n",
    "Resource 2: https://sparkbyexamples.com/pyspark-tutorial/"
   ]
  },
  {
   "cell_type": "code",
   "execution_count": null,
   "id": "521cd1db",
   "metadata": {},
   "outputs": [],
   "source": []
  }
 ],
 "metadata": {
  "kernelspec": {
   "display_name": "Python 3 (ipykernel)",
   "language": "python",
   "name": "python3"
  },
  "language_info": {
   "codemirror_mode": {
    "name": "ipython",
    "version": 3
   },
   "file_extension": ".py",
   "mimetype": "text/x-python",
   "name": "python",
   "nbconvert_exporter": "python",
   "pygments_lexer": "ipython3",
   "version": "3.9.7"
  }
 },
 "nbformat": 4,
 "nbformat_minor": 5
}
